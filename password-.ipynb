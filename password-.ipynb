{
 "cells": [
  {
   "cell_type": "code",
   "execution_count": 7,
   "id": "9f8610fb-a136-4717-b91e-2aac5de17234",
   "metadata": {},
   "outputs": [
    {
     "name": "stdin",
     "output_type": "stream",
     "text": [
      "enter your password y6fy6u\n"
     ]
    },
    {
     "name": "stdout",
     "output_type": "stream",
     "text": [
      "not ok\n"
     ]
    }
   ],
   "source": [
    "import re \n",
    "password = input (\"enter your password\")\n",
    "    \n",
    "long = re.findall (\".{12,}\",password)\n",
    "upper = re.findall(\"[A-Z]\", password)\n",
    "lower = re.findall(\"[a-z]\", password)\n",
    "specia = re.findall(\"[!~#$%^&*{}+_]\",password)\n",
    "nums = re.findall(\"[0-9]\", password)\n",
    "\n",
    "\n",
    "if length and upper and lower and special and nums:\n",
    "    print(\"ok\")\n",
    "else:\n",
    "    print(\"not ok\")\n",
    "\n"
   ]
  },
  {
   "cell_type": "code",
   "execution_count": null,
   "id": "49d1213b-09ad-42b3-b81e-d613f9c578b1",
   "metadata": {},
   "outputs": [],
   "source": []
  }
 ],
 "metadata": {
  "kernelspec": {
   "display_name": "Python 3 (ipykernel)",
   "language": "python",
   "name": "python3"
  },
  "language_info": {
   "codemirror_mode": {
    "name": "ipython",
    "version": 3
   },
   "file_extension": ".py",
   "mimetype": "text/x-python",
   "name": "python",
   "nbconvert_exporter": "python",
   "pygments_lexer": "ipython3",
   "version": "3.10.6"
  }
 },
 "nbformat": 4,
 "nbformat_minor": 5
}
